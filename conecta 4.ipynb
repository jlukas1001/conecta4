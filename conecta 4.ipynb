{
 "cells": [
  {
   "cell_type": "markdown",
   "metadata": {},
   "source": [
    "<table>\n",
    "    <tr>\n",
    "        <td><img src=\"./imagenes/Macc.png\" width=\"400\"/></td>\n",
    "        <td>&nbsp;</td>\n",
    "        <td>\n",
    "            <h1 style=\"color:blue;text-align:left\">Inteligencia Artificial</h1></td>\n",
    "        <td>\n",
    "            <table><tr>\n",
    "            <tp><p style=\"font-size:150%;text-align:center\">Proyecto 1</p></tp>\n",
    "            <tp><p style=\"font-size:150%;text-align:center\">Conecta 4 </p></tp>\n",
    "            </tr></table>\n",
    "        </td>\n",
    "    </tr>\n",
    "</table>\n",
    "\n",
    "---"
   ]
  },
  {
   "cell_type": "markdown",
   "metadata": {},
   "source": [
    "## Objetivo"
   ]
  },
  {
   "cell_type": "markdown",
   "metadata": {},
   "source": [
    "El objetivo del siguiente notebook es, mostrarle al lector la implementacion del conocido juego conecta-4 mediante lo visto en la clase de inteligencia artificial,es decir, busqueda en estado de espacios, algoritmos de busqueda, utilidad y mucho mas. Ademas, mostraremos el analisis que hicimos al comparar los algoritmos de busqueda \"minimax\" y \"poda alfa-beta\". "
   ]
  },
  {
   "cell_type": "markdown",
   "metadata": {},
   "source": [
    "## Secciones\n",
    "\n",
    "Desarrollaremos la explicación de la siguiente manera:\n",
    "\n",
    "* [Explicacion del juego](attachment:./#rumania).\n",
    "* [Estrategia de búsqueda](attachment:./#uniform)."
   ]
  },
  {
   "cell_type": "markdown",
   "metadata": {},
   "source": []
  },
  {
   "cell_type": "markdown",
   "metadata": {},
   "source": [
    "Antes de iniciar con la parte de programacion y lo formal, empecemos con la pregunta ¿Que es conecta-4? \n",
    "\n",
    "A pesar de ser un juego conocido, nos gustaria explicarlo (si el lector ya sabe de que se trata puede saltarse esta parte)\n",
    "\n",
    "**Conecta-4**: Juego de mesa para dos jugadores, creado en 1974, distribuido por Hasbro y ahora con versiones online. Consiste en que cada jugador tiene 21 fichas de un color (amarillas o rojas) y el jugador ganador es el cual logre de primeras poner cuatro de estas fichas del mismo color en linea (horizontal, vertical o culaquiera de las diagonales) en el tablero. el tablero original o mas comun es el de 7x6. El juego luce de la siguiente manera:"
   ]
  },
  {
   "cell_type": "markdown",
   "metadata": {},
   "source": [
    "Vamos a iniciar definiendo el problema.\n",
    "\n",
    "* **Estado inicial**: Tablero de 7x6 vacio, inicio de juego.\n",
    "\n",
    "* **a_jugar(s):** Define el jugador en turno, es decir, si el jugador que tiene las fichas rojas o el jugador con las fichas amarillas.\n",
    "\n",
    "* **acciones(s):** Son las posibles acciones que el jugador puede realizar segun a_jugar(s) en el estado s. El jugador en turno ubica una ficha en una posicion.\n",
    "\n",
    "* **resultado(s, a):** Describe el entorno el cual resulta de la accion que haya hecho el jugador.\n",
    "\n",
    "* **es_terminal(s):** Determina si el juego ya finalizo y se obtiene el estado.\n",
    "\n",
    "* **utilidad(s, j):** Es una funcion definida para los es_terminal(s), establece la utilidad que se obtiene despues de que el jugador j, jugara. En nuestro caso, si el ganador es el rojo la utilidad es -1, 1 de lo contrario (amarillo), y como siempre, si hay empate es 0."
   ]
  },
  {
   "cell_type": "markdown",
   "metadata": {},
   "source": [
    "## Pruebas de funcionamiento\n",
    "\n",
    "debido a que el tablero es muy grande, el algoritmo de poda alfa-beta se demoraba demasiado tiempo en encontrar un movimiento desde el estado inicial. De modo que, generamos tableros aleatorios despues de n jugadas."
   ]
  },
  {
   "cell_type": "code",
   "execution_count": 1,
   "metadata": {},
   "outputs": [],
   "source": [
    "from ambientes import *\n",
    "from random import choice\n",
    "\n",
    "juego = Conecta_4()\n",
    "s = juego.estado_inicial\n"
   ]
  },
  {
   "cell_type": "markdown",
   "metadata": {},
   "source": [
    "declaramos un estado inicial el cual no es terminal pero el tablero esta casi completo, esto con el fin de comprobar el funcionamiento de los estados terminales, y, el algoritmo poda alfa-beta"
   ]
  },
  {
   "cell_type": "code",
   "execution_count": 2,
   "metadata": {},
   "outputs": [
    {
     "data": {
      "image/png": "[encoded data removed]",
      "text/plain": [
       "<Figure size 432x288 with 1 Axes>"
      ]
     },
     "metadata": {
      "needs_background": "light"
     },
     "output_type": "display_data"
    }
   ],
   "source": [
    "s = np.matrix(\"0 2 0 0 0 2; 2 2 1 1 1 2; 1 2 2 2 1 1; 2 1 1 2 2 1; 1 2 1 1 1 2; 2 1 1 2 2 2; 1 2 2 1 1 1\")\n",
    "juego.pintar_estado(s)\n"
   ]
  },
  {
   "cell_type": "code",
   "execution_count": 6,
   "metadata": {},
   "outputs": [
    {
     "name": "stdout",
     "output_type": "stream",
     "text": [
      "El estado es terminal:  False\n",
      "Posiciones posibles de juego:  [(4, 0), (3, 0), (2, 0), (0, 0)]\n"
     ]
    }
   ],
   "source": [
    "print(\"El estado es terminal: \", juego.es_terminal(s))\n",
    "print(\"Posiciones posibles de juego: \", juego.acciones(s))"
   ]
  },
  {
   "cell_type": "markdown",
   "metadata": {},
   "source": [
    "Es turno de las fichas verdes, vamos a dejar que el algoritmo alfa-beta escoja la mejor opcion para mover, como se vio anteriormente, tiene 4 acciones posibles, el movimiento esperado seria en (0,0), de ese modo, las fichas verdes ganarian el juego"
   ]
  },
  {
   "cell_type": "code",
   "execution_count": 23,
   "metadata": {},
   "outputs": [
    {
     "name": "stdout",
     "output_type": "stream",
     "text": [
      "El computador jugo en:  (0, 0)\n"
     ]
    },
    {
     "data": {
      "image/png": "[encoded data removed]",
      "text/plain": [
       "<Figure size 432x288 with 1 Axes>"
      ]
     },
     "metadata": {
      "needs_background": "light"
     },
     "output_type": "display_data"
    },
    {
     "name": "stdout",
     "output_type": "stream",
     "text": [
      "Es terminal es estado actual:  True\n"
     ]
    }
   ],
   "source": [
    "s = np.matrix(\"0 2 0 0 0 2; 2 2 1 1 1 2; 1 2 2 2 1 1; 2 1 1 2 2 1; 1 2 1 1 1 2; 2 1 1 2 2 2; 1 2 2 1 1 1\")\n",
    "\n",
    "jugada_pc = poda_alpha_beta(juego,s)\n",
    "print(\"El computador jugo en: \", jugada_pc)\n",
    "\n",
    "\n",
    "s = juego.resultado(s, jugada_pc)\n",
    "\n",
    "\n",
    "juego.pintar_estado(s)\n",
    "print(\"Es terminal es estado actual: \", juego.es_terminal(s)) \n"
   ]
  },
  {
   "cell_type": "markdown",
   "metadata": {},
   "source": [
    "Funciono! entre las 4 acciones el algoritmo elige la que maximiza su funcion de costo, haciendo que las fichas verdes ganen, ademas, el algoritmo tiene un comportamiento determinista (no es suerte que haya escogido esa casilla) siempre que se corre el codigo, el output es (0,0)"
   ]
  },
  {
   "cell_type": "markdown",
   "metadata": {},
   "source": [
    "## Un caso mas general"
   ]
  },
  {
   "cell_type": "code",
   "execution_count": 39,
   "metadata": {},
   "outputs": [
    {
     "data": {
      "image/png": "[encoded data removed]",
      "text/plain": [
       "<Figure size 432x288 with 1 Axes>"
      ]
     },
     "metadata": {
      "needs_background": "light"
     },
     "output_type": "display_data"
    }
   ],
   "source": [
    "s = np.matrix(\"0 0 0 0 0 2; 0 0 0 0 0 2; 0 0 2 2 1 1; 0 0 1 2 2 1; 1 0 1 1 1 2; 2 1 1 2 2 2; 1 2 2 1 1 1\")\n",
    "\n",
    "juego.pintar_estado(s)"
   ]
  },
  {
   "cell_type": "markdown",
   "metadata": {},
   "source": [
    "Las verdes estan apunto de perder, la unica opcion para seguir jugando es que coloquen la ficha en la posicion (1,4), vamos a ver que hace el computador: "
   ]
  },
  {
   "cell_type": "code",
   "execution_count": 41,
   "metadata": {},
   "outputs": [
    {
     "name": "stdout",
     "output_type": "stream",
     "text": [
      "El computador jugo en:  (1, 4)\n"
     ]
    },
    {
     "data": {
      "image/png": "[encoded data removed]",
      "text/plain": [
       "<Figure size 432x288 with 1 Axes>"
      ]
     },
     "metadata": {
      "needs_background": "light"
     },
     "output_type": "display_data"
    }
   ],
   "source": [
    "s = np.matrix(\"0 0 0 0 0 2; 0 0 0 0 0 2; 0 0 2 2 1 1; 0 0 1 2 2 1; 1 0 1 1 1 2; 2 1 1 2 2 2; 1 2 2 1 1 1\")\n",
    "\n",
    "# El computador juega por las verdes\n",
    "jugada_pc = poda_alpha_beta(juego,s)\n",
    "print(\"El computador jugo en: \", jugada_pc)\n",
    "\n",
    "\n",
    "s = juego.resultado(s, jugada_pc)\n",
    "\n",
    "juego.pintar_estado(s)"
   ]
  },
  {
   "cell_type": "markdown",
   "metadata": {},
   "source": [
    "Como se vio en el ejemplo anterior, el computador logro escoger la casilla correcta para no perder."
   ]
  },
  {
   "cell_type": "markdown",
   "metadata": {},
   "source": [
    "# A jugar!"
   ]
  },
  {
   "cell_type": "markdown",
   "metadata": {},
   "source": [
    "El siguiente codigo genera un tablero aleatorio con n jugadas realizadas.\n",
    "\n",
    "Nota: notese que el algoritmo para crear un tablero inicial es un algoritmo aleatorio, si n tiende a 42, lo mas probable es que el algoritmo nunca encuentre un estado no terminal."
   ]
  },
  {
   "cell_type": "code",
   "execution_count": 7,
   "metadata": {},
   "outputs": [
    {
     "data": {
      "image/png": "[encoded data removed]",
      "text/plain": [
       "<Figure size 432x288 with 1 Axes>"
      ]
     },
     "metadata": {
      "needs_background": "light"
     },
     "output_type": "display_data"
    }
   ],
   "source": [
    "n = 25 # Numero de jugadas, tiene que ser un numero par\n",
    "\n",
    "s = juego.estado_inicial\n",
    "for i in range(n):\n",
    "    a = choice(juego.acciones(s))\n",
    "    s = juego.resultado(s,a)\n",
    "\n",
    "while juego.es_terminal(s):\n",
    "    s = juego.estado_inicial\n",
    "    for i in range(n):\n",
    "        a = choice(juego.acciones(s))\n",
    "        s = juego.resultado(s,a)\n",
    "\n",
    "juego.pintar_estado(s)\n",
    "\n",
    "s1 = s \n",
    "\n"
   ]
  },
  {
   "cell_type": "code",
   "execution_count": 96,
   "metadata": {},
   "outputs": [],
   "source": [
    "s1 = s # Correr esta linea si se quiere reiniciar el juego con el tablero anterior"
   ]
  },
  {
   "cell_type": "code",
   "execution_count": 8,
   "metadata": {},
   "outputs": [
    {
     "data": {
      "image/png": "[encoded data removed]",
      "text/plain": [
       "<Figure size 432x288 with 1 Axes>"
      ]
     },
     "metadata": {
      "needs_background": "light"
     },
     "output_type": "display_data"
    },
    {
     "name": "stdout",
     "output_type": "stream",
     "text": [
      "Juego terminado. Ganan las verdes\n"
     ]
    }
   ],
   "source": [
    "# la jugada de las fichas verdes es la del computador.\n",
    "\n",
    "a = (0,3)\n",
    "\n",
    "assert(a in juego.acciones(s1)), 'Acción no permitida. Intente de nuevo.'\n",
    "\n",
    "###################\n",
    "s1 = juego.resultado(s1, a)\n",
    "juego.pintar_estado(s1)\n",
    "\n",
    "\n",
    "if not juego.es_terminal(s1):\n",
    "    a = poda_alpha_beta(juego, s1)\n",
    "    print(\"El computador jugo en: \", a)\n",
    "    s1 = juego.resultado(s1, a)\n",
    "    sleep(1)\n",
    "    clear_output(wait=True)\n",
    "    juego.pintar_estado(s1)\n",
    "    \n",
    "    if juego.es_terminal(s1):\n",
    "        print('Juego terminado. Ganan las verdes')\n",
    "else:\n",
    "    jugador = juego.a_jugar(s1)\n",
    "    if juego.utilidad(s1, jugador)==0:\n",
    "        print('Juego terminado. ¡Empate!')\n",
    "    else:\n",
    "        print('Juego terminado. ganan las azules')"
   ]
  },
  {
   "cell_type": "markdown",
   "metadata": {},
   "source": [
    "## Conclusiones"
   ]
  },
  {
   "cell_type": "markdown",
   "metadata": {},
   "source": [
    "* El algoritmo de busqueda es muy malo para problemas con muchas posibilidades, como es el caso de nuestro tablero, un tablero de 7x6 significa muchas posibilidades de juego lo cual el computador no era capaz de calcular en un tiempo prudente (en nuestro caso, el algoritmo duro mas de 2 horas corriendo y no arrojo ningun resultado)\n",
    "\n",
    "* Para obtener resultados correctos, debemos acotar el problema, para esto, creamos tableros aleatorios con n juagadas, de esta manera el algoritmo tenia un punto de partida con menos posibilidades y encontraba el resultados mas rapido.\n",
    "\n",
    "* El algoritmo de poda alfa-beta fue el unico que logro correr nuestro problema, el minmax no fue capaz de reslover el "
   ]
  },
  {
   "cell_type": "markdown",
   "metadata": {},
   "source": [
    "## Bibliografia"
   ]
  },
  {
   "cell_type": "markdown",
   "metadata": {},
   "source": [
    "S. Russell and P. Norvig, Arti\f",
    "cial Intelligence: A Modern Approach. Pearson Education Limited,\n",
    "2016.\n"
   ]
  }
 ],
 "metadata": {
  "kernelspec": {
   "display_name": "Python 3 (ipykernel)",
   "language": "python",
   "name": "python3"
  },
  "language_info": {
   "codemirror_mode": {
    "name": "ipython",
    "version": 3
   },
   "file_extension": ".py",
   "mimetype": "text/x-python",
   "name": "python",
   "nbconvert_exporter": "python",
   "pygments_lexer": "ipython3",
   "version": "3.9.4"
  }
 },
 "nbformat": 4,
 "nbformat_minor": 1
}
